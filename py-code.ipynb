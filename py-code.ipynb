{
 "cells": [
  {
   "cell_type": "markdown",
   "metadata": {},
   "source": [
    "## Problem statement: \n",
    "- “Predict Possibility of Patient Readmission within 60days from discharge”\n",
    "\n",
    "## To do:\n",
    "1.\tExploratory Data Analysis\n",
    "2.\tAssumptions (if any)\n",
    "3.\tFeature Engineering & Feature Selection\n",
    "4.\tModel Building\n",
    "5.\tPredicted output\n",
    "6.\tModel Evaluation Metrics\n",
    "\n",
    "- - - -\n",
    "\n",
    "## Code:\n",
    "\n",
    "### Import Libraries"
   ]
  },
  {
   "cell_type": "code",
   "execution_count": 1,
   "metadata": {},
   "outputs": [],
   "source": [
    "import numpy as np\n",
    "import pandas as pd\n",
    "import warnings\n",
    "warnings.simplefilter('ignore')"
   ]
  },
  {
   "cell_type": "markdown",
   "metadata": {},
   "source": [
    "### Read Data"
   ]
  },
  {
   "cell_type": "code",
   "execution_count": 2,
   "metadata": {},
   "outputs": [],
   "source": [
    "admissions = pd.read_csv('readmission_data//ADMISSIONS.csv')\n",
    "services = pd.read_csv('readmission_data//SERVICES.csv')\n",
    "icd = pd.read_csv('readmission_data//DIAGNOSES_ICD.csv')\n",
    "d_icd = pd.read_csv('readmission_data//D_ICD_DIAGNOSES.csv')\n",
    "icu_stays = pd.read_csv(\"readmission_data//ICUSTAYS.csv\")\n",
    "patients = pd.read_csv('readmission_data//PATIENTS.csv')\n",
    "drg_codes = pd.read_csv('readmission_data//DRGCODES.csv')"
   ]
  },
  {
   "cell_type": "markdown",
   "metadata": {},
   "source": [
    "### Prepare a KEY"
   ]
  },
  {
   "cell_type": "code",
   "execution_count": 3,
   "metadata": {},
   "outputs": [],
   "source": [
    "admissions['SUBJECT_ID'] = admissions['SUBJECT_ID'].astype(str)\n",
    "admissions['HADM_ID'] = admissions['HADM_ID'].astype(str)\n",
    "admissions['key'] = admissions[['SUBJECT_ID', 'HADM_ID']].apply(lambda x: ''.join(x), axis=1)\n",
    "\n",
    "services['SUBJECT_ID'] = services['SUBJECT_ID'].astype(str)\n",
    "services['HADM_ID'] = services['HADM_ID'].astype(str)\n",
    "services['key'] = services[['SUBJECT_ID', 'HADM_ID']].apply(lambda x: ''.join(x), axis=1)\n",
    "\n",
    "icd['SUBJECT_ID'] = icd['SUBJECT_ID'].astype(str)\n",
    "icd['HADM_ID'] = icd['HADM_ID'].astype(str)\n",
    "icd['key'] = icd[['SUBJECT_ID', 'HADM_ID']].apply(lambda x: ''.join(x), axis=1)\n",
    "\n",
    "icu_stays['SUBJECT_ID'] = icu_stays['SUBJECT_ID'].astype(str)\n",
    "icu_stays['HADM_ID'] = icu_stays['HADM_ID'].astype(str)\n",
    "icu_stays['key'] = icu_stays[['SUBJECT_ID', 'HADM_ID']].apply(lambda x: ''.join(x), axis=1)\n",
    "\n",
    "drg_codes['SUBJECT_ID'] = drg_codes['SUBJECT_ID'].astype(str)\n",
    "drg_codes['HADM_ID'] = drg_codes['HADM_ID'].astype(str)\n",
    "drg_codes['key'] = drg_codes[['SUBJECT_ID', 'HADM_ID']].apply(lambda x: ''.join(x), axis=1)"
   ]
  },
  {
   "cell_type": "markdown",
   "metadata": {},
   "source": [
    "### Drop un-wanted columns\n",
    "- **Column: Reason**\n",
    "- ROW_ID: Unique\n",
    "- HADM_ID: Already formed a key\n",
    "- DESCRIPTION: Text\n",
    "- DRG_SEVERITY: 46% Missing\n",
    "- DRG_MORTALITY: 46% Missing\n",
    "- DOB: Invalid dates, Cant use to get age\n",
    "- DOD: Already we have expire flag\n",
    "- DOD_HOSP: 79% Blanks\n",
    "- DOD_SSN: 72% Blanks\n",
    "- ICUSTAY_ID: Unique\n",
    "- INTIME: Already we have LOS\n",
    "- OUTTIME: Already we have LOS\n",
    "- SHORT_TITLE: text\n",
    "- LONG_TITLE: text\n",
    "- SEQ_NUM: Key\n",
    "- TRANSFERTIME: Not found useful\n",
    "- EDREGTIME: Not found useful\n",
    "- EDOUTTIME: Not found useful\n",
    "- DIAGNOSIS: Not found useful"
   ]
  },
  {
   "cell_type": "code",
   "execution_count": 4,
   "metadata": {},
   "outputs": [],
   "source": [
    "admission_drop = [\"ROW_ID\", \"HADM_ID\", \"EDREGTIME\", \"EDOUTTIME\", \"DIAGNOSIS\"]\n",
    "services_drop = [\"ROW_ID\", \"HADM_ID\", \"TRANSFERTIME\", \"SUBJECT_ID\"]\n",
    "icd_drop = [\"ROW_ID\", \"HADM_ID\", \"SEQ_NUM\", \"SUBJECT_ID\"]\n",
    "d_icd_drop = [\"ROW_ID\", \"SHORT_TITLE\", \"LONG_TITLE\"]\n",
    "icu_stays_drop = [\"ROW_ID\", \"HADM_ID\", \"ICUSTAY_ID\", \"INTIME\", \"OUTTIME\", \"SUBJECT_ID\"]\n",
    "patients_drop = [\"ROW_ID\", \"DOB\", \"DOD\", \"DOD_HOSP\", \"DOD_SSN\"]\n",
    "drg_codes_drop = [\"ROW_ID\", \"HADM_ID\", \"DESCRIPTION\", \"DRG_SEVERITY\", \"DRG_MORTALITY\", \"SUBJECT_ID\"]"
   ]
  },
  {
   "cell_type": "code",
   "execution_count": 5,
   "metadata": {},
   "outputs": [],
   "source": [
    "admissions.drop(admission_drop, axis=1, inplace=True)\n",
    "services.drop(services_drop, axis=1, inplace=True)\n",
    "icd.drop(icd_drop, axis=1, inplace=True)\n",
    "d_icd.drop(d_icd_drop, axis=1, inplace=True)\n",
    "icu_stays.drop(icu_stays_drop, axis=1, inplace=True)\n",
    "patients.drop(patients_drop, axis=1, inplace=True)\n",
    "drg_codes.drop(drg_codes_drop, axis=1, inplace=True)"
   ]
  },
  {
   "cell_type": "markdown",
   "metadata": {},
   "source": [
    "### Drop duplicates"
   ]
  },
  {
   "cell_type": "code",
   "execution_count": 6,
   "metadata": {},
   "outputs": [],
   "source": [
    "admissions = admissions.drop_duplicates()\n",
    "services = services.drop_duplicates()\n",
    "icd = icd.drop_duplicates()\n",
    "d_icd = d_icd.drop_duplicates()\n",
    "icu_stays = icu_stays.drop_duplicates()\n",
    "patients = patients.drop_duplicates()\n",
    "drg_codes = drg_codes.drop_duplicates()"
   ]
  },
  {
   "cell_type": "code",
   "execution_count": 7,
   "metadata": {},
   "outputs": [],
   "source": [
    "# # delete unwanted objects\n",
    "del admission_drop\n",
    "del services_drop\n",
    "del icd_drop\n",
    "del d_icd_drop\n",
    "del icu_stays_drop\n",
    "del patients_drop\n",
    "del drg_codes_drop"
   ]
  },
  {
   "cell_type": "markdown",
   "metadata": {},
   "source": [
    "### Clean tables for preparing Master table"
   ]
  },
  {
   "cell_type": "code",
   "execution_count": 8,
   "metadata": {},
   "outputs": [],
   "source": [
    "services = services[['key', 'CURR_SERVICE']].groupby('key').agg('count').reset_index()\n",
    "services.columns = ['key', 'service_ct']\n",
    "icd = icd[['key', 'ICD9_CODE']].groupby('key').agg('count').reset_index()\n",
    "icd.columns = ['key', 'icd_ct']"
   ]
  },
  {
   "cell_type": "code",
   "execution_count": 9,
   "metadata": {},
   "outputs": [],
   "source": [
    "drg_codes['APR'] = [1 if i == 'APR ' else 0 for i in drg_codes.DRG_TYPE]\n",
    "drg_codes['HCFA'] = [1 if i == 'HCFA' else 0 for i in drg_codes.DRG_TYPE]\n",
    "drg_codes['MS'] = [1 if i == 'MS ' else 0 for i in drg_codes.DRG_TYPE]\n",
    "drg_codes.drop(['DRG_TYPE', 'DRG_CODE'], axis = 1, inplace=True)\n",
    "drg_codes = drg_codes.groupby('key').agg('sum').reset_index()\n",
    "drg_codes = drg_codes.drop_duplicates()"
   ]
  },
  {
   "cell_type": "code",
   "execution_count": 10,
   "metadata": {},
   "outputs": [],
   "source": [
    "icu_stays1 = icu_stays[['key', 'LOS']].groupby('key').agg('mean').reset_index()\n",
    "icu_stays2 = icu_stays[['key', 'LOS']].groupby('key').agg('count').reset_index()\n",
    "icu_stays3 = icu_stays1.merge(icu_stays2, left_on='key', right_on='key', how='inner')\n",
    "icu_stays3.columns = ['key', 'Avg_LOS', 'N_CAREUNITS']\n",
    "icu_stays3 = icu_stays3.merge(icu_stays[['key', 'DBSOURCE']], left_on = 'key', right_on='key', how = 'left')\n",
    "icu_stays3 = icu_stays3.drop_duplicates()\n",
    "del icu_stays1\n",
    "del icu_stays2\n",
    "icu_stays = icu_stays3\n",
    "del icu_stays3"
   ]
  },
  {
   "cell_type": "markdown",
   "metadata": {},
   "source": [
    "### Prepare Master"
   ]
  },
  {
   "cell_type": "code",
   "execution_count": 11,
   "metadata": {},
   "outputs": [],
   "source": [
    "# # prepare master\n",
    "admissions['SUBJECT_ID'] = admissions['SUBJECT_ID'].astype('int')\n",
    "admissions = admissions.merge(patients, on = 'SUBJECT_ID', how = 'left')\n",
    "admissions = admissions.merge(services, on = 'key', how = 'left')\n",
    "admissions = admissions.merge(icd, on = 'key', how = 'left')\n",
    "admissions = admissions.merge(icu_stays, on = 'key', how = 'left')\n",
    "admissions = admissions.merge(drg_codes, on = 'key', how = 'left')"
   ]
  },
  {
   "cell_type": "markdown",
   "metadata": {},
   "source": [
    "### Prepare Target"
   ]
  },
  {
   "cell_type": "code",
   "execution_count": 12,
   "metadata": {},
   "outputs": [],
   "source": [
    "admissions['ADMITTIME'] = pd.to_datetime(admissions.ADMITTIME)\n",
    "admissions['DISCHTIME'] = pd.to_datetime(admissions.DISCHTIME)\n",
    "admissions['DEATHTIME'] = pd.to_datetime(admissions.DEATHTIME)"
   ]
  },
  {
   "cell_type": "code",
   "execution_count": 13,
   "metadata": {},
   "outputs": [],
   "source": [
    "admissions['SUBJECT_ID'] = admissions['SUBJECT_ID'].astype('int')"
   ]
  },
  {
   "cell_type": "code",
   "execution_count": 14,
   "metadata": {},
   "outputs": [],
   "source": [
    "admissions = admissions.sort_values(['SUBJECT_ID', 'ADMITTIME'], ascending=[True, True])"
   ]
  },
  {
   "cell_type": "code",
   "execution_count": 15,
   "metadata": {},
   "outputs": [],
   "source": [
    "admissions['target'] = 0\n",
    "admissions = admissions.reset_index()\n",
    "del admissions['index']"
   ]
  },
  {
   "cell_type": "code",
   "execution_count": 16,
   "metadata": {},
   "outputs": [],
   "source": [
    "n = admissions.shape[0]"
   ]
  },
  {
   "cell_type": "code",
   "execution_count": 17,
   "metadata": {},
   "outputs": [],
   "source": [
    "def prepare_target(admissions, n):\n",
    "    i = 0\n",
    "    while i < n:\n",
    "        temp = admissions.SUBJECT_ID[i]\n",
    "        count = admissions[admissions.SUBJECT_ID == temp].shape[0]\n",
    "        if count == 1:\n",
    "            i = i + 1\n",
    "        else:\n",
    "            while count > 1:\n",
    "                tempadmitdate = admissions.ADMITTIME[i + 1]\n",
    "                tempdichargedate = admissions.DISCHTIME[i]\n",
    "                if (tempdichargedate - tempadmitdate).days < 60:\n",
    "                    admissions['target'][i] = 1\n",
    "                i = i + 1\n",
    "                count = count - 1\n",
    "            i = i + 1\n",
    "    return(admissions)"
   ]
  },
  {
   "cell_type": "code",
   "execution_count": 18,
   "metadata": {},
   "outputs": [],
   "source": [
    "temp_admissions = admissions.copy() # take a backup !\n",
    "admissions = prepare_target(admissions = admissions, n = n)"
   ]
  },
  {
   "cell_type": "code",
   "execution_count": 19,
   "metadata": {},
   "outputs": [],
   "source": [
    "# admissions = pd.read_csv('..//data//full_data.csv')"
   ]
  },
  {
   "cell_type": "code",
   "execution_count": 20,
   "metadata": {},
   "outputs": [],
   "source": [
    "# del admissions['daystoadmit']"
   ]
  },
  {
   "cell_type": "code",
   "execution_count": 21,
   "metadata": {},
   "outputs": [
    {
     "data": {
      "text/plain": [
       "0    0.788795\n",
       "1    0.211205\n",
       "Name: target, dtype: float64"
      ]
     },
     "execution_count": 21,
     "metadata": {},
     "output_type": "execute_result"
    }
   ],
   "source": [
    "## check target class\n",
    "admissions['target'].value_counts(normalize=True) # only 6.2% of 1's"
   ]
  },
  {
   "cell_type": "markdown",
   "metadata": {},
   "source": [
    "### Check and handle missing values"
   ]
  },
  {
   "cell_type": "code",
   "execution_count": 22,
   "metadata": {},
   "outputs": [
    {
     "data": {
      "text/plain": [
       "SUBJECT_ID                  0\n",
       "ADMITTIME                   0\n",
       "DISCHTIME                   0\n",
       "DEATHTIME               53122\n",
       "ADMISSION_TYPE              0\n",
       "ADMISSION_LOCATION          0\n",
       "DISCHARGE_LOCATION          0\n",
       "INSURANCE                   0\n",
       "LANGUAGE                25332\n",
       "RELIGION                  458\n",
       "MARITAL_STATUS          10128\n",
       "ETHNICITY                   0\n",
       "HOSPITAL_EXPIRE_FLAG        0\n",
       "HAS_CHARTEVENTS_DATA        0\n",
       "key                         0\n",
       "GENDER                      0\n",
       "EXPIRE_FLAG                 0\n",
       "service_ct                 50\n",
       "icd_ct                      0\n",
       "Avg_LOS                  1200\n",
       "N_CAREUNITS              1190\n",
       "DBSOURCE                 1190\n",
       "APR                        86\n",
       "HCFA                       86\n",
       "MS                         86\n",
       "target                      0\n",
       "dtype: int64"
      ]
     },
     "execution_count": 22,
     "metadata": {},
     "output_type": "execute_result"
    }
   ],
   "source": [
    "admissions.isnull().sum(axis=0)"
   ]
  },
  {
   "cell_type": "code",
   "execution_count": 23,
   "metadata": {},
   "outputs": [],
   "source": [
    "drop_cols = ['DEATHTIME', 'LANGUAGE', 'MARITAL_STATUS'] # many missing !\n",
    "admissions.drop(drop_cols, axis = 1, inplace = True)"
   ]
  },
  {
   "cell_type": "code",
   "execution_count": 24,
   "metadata": {},
   "outputs": [],
   "source": [
    "admissions['Avg_LOS'].fillna((admissions['Avg_LOS'].mean()), inplace=True)\n",
    "admissions['N_CAREUNITS'].fillna((admissions['N_CAREUNITS'].mean()), inplace=True)\n",
    "admissions['HCFA'].fillna((admissions['HCFA'].mode()[0]), inplace=True)\n",
    "admissions['APR'].fillna((admissions['APR'].mode()[0]), inplace=True)\n",
    "admissions['MS'].fillna((admissions['MS'].mode()[0]), inplace=True)\n",
    "admissions['service_ct'].fillna((admissions['service_ct'].mean()), inplace=True)"
   ]
  },
  {
   "cell_type": "code",
   "execution_count": 25,
   "metadata": {},
   "outputs": [],
   "source": [
    "admissions['DBSOURCE'].fillna('carevue', inplace = True)\n",
    "admissions['RELIGION'].fillna('CATHOLIC', inplace = True)"
   ]
  },
  {
   "cell_type": "markdown",
   "metadata": {},
   "source": [
    "### EDA"
   ]
  },
  {
   "cell_type": "code",
   "execution_count": 26,
   "metadata": {},
   "outputs": [],
   "source": [
    "import matplotlib.pyplot as plt\n",
    "%matplotlib inline"
   ]
  },
  {
   "cell_type": "code",
   "execution_count": 27,
   "metadata": {},
   "outputs": [],
   "source": [
    "def group_bar(data, column, n_groups, x_label, title, labels):\n",
    "    no = np.array(data[[column, 'target']][data.target == 0].groupby(column).agg('count').reset_index()['target'])\n",
    "    yes = np.array(data[[column, 'target']][data.target == 1].groupby(column).agg('count').reset_index()['target'])\n",
    "    fig, ax = plt.subplots()\n",
    "    index = np.arange(n_groups)\n",
    "    bar_width = 0.35\n",
    "    rects1 = plt.bar(index, no, bar_width, alpha=0.4, color='y', label='NO')\n",
    "    rects2 = plt.bar(index + bar_width, yes, bar_width, alpha=0.4, color='r', label='YES')\n",
    "    plt.xlabel(x_label)\n",
    "    plt.ylabel('Count')\n",
    "    plt.title(title)\n",
    "    plt.xticks(index + bar_width / 2, labels)\n",
    "    plt.legend()\n",
    "    plt.tight_layout()\n",
    "    return plt"
   ]
  },
  {
   "cell_type": "code",
   "execution_count": 28,
   "metadata": {},
   "outputs": [
    {
     "data": {
      "image/png": "[encoded data removed]",
      "text/plain": [
       "<matplotlib.figure.Figure at 0x1683a0e74a8>"
      ]
     },
     "metadata": {},
     "output_type": "display_data"
    }
   ],
   "source": [
    "p1 = group_bar(admissions, 'GENDER', 2, 'GENDER', 'Target w.r.t Gender', ['Male', 'Female'])"
   ]
  },
  {
   "cell_type": "code",
   "execution_count": 29,
   "metadata": {},
   "outputs": [
    {
     "data": {
      "image/png": "[encoded data removed]",
      "text/plain": [
       "<matplotlib.figure.Figure at 0x16836bb5588>"
      ]
     },
     "metadata": {},
     "output_type": "display_data"
    }
   ],
   "source": [
    "p2 = group_bar(admissions, 'ADMISSION_TYPE', 4, 'ADMISSION_TYPE', 'Target w.r.t Admission type', [\"NEWBORN\", \"EMERGENCY\", \"ELECTIVE\", \"URGENT\"])"
   ]
  },
  {
   "cell_type": "code",
   "execution_count": 30,
   "metadata": {},
   "outputs": [
    {
     "data": {
      "image/png": "[encoded data removed]",
      "text/plain": [
       "<matplotlib.figure.Figure at 0x16836b33358>"
      ]
     },
     "metadata": {},
     "output_type": "display_data"
    }
   ],
   "source": [
    "types = [\"Private\", \"Medicare\", \"Medicaid\", \"Government\", \"Self Pay\"]\n",
    "p3 = group_bar(admissions, 'INSURANCE', 5, 'INSURANCE', 'Target w.r.t Insurance types', types)"
   ]
  },
  {
   "cell_type": "markdown",
   "metadata": {},
   "source": [
    "### Prepare Model data"
   ]
  },
  {
   "cell_type": "code",
   "execution_count": 31,
   "metadata": {},
   "outputs": [],
   "source": [
    "from sklearn.preprocessing import LabelEncoder"
   ]
  },
  {
   "cell_type": "code",
   "execution_count": 32,
   "metadata": {},
   "outputs": [],
   "source": [
    "# not required for model\n",
    "drop_cols = [\"ADMITTIME\", \"DISCHTIME\", \"SUBJECT_ID\", \"ADMISSION_LOCATION\", \"DISCHARGE_LOCATION\", \"key\"]\n",
    "# categorical columns\n",
    "cat_cols = ['ADMISSION_TYPE', 'INSURANCE', 'RELIGION', 'ETHNICITY', 'DBSOURCE', 'GENDER']"
   ]
  },
  {
   "cell_type": "code",
   "execution_count": 33,
   "metadata": {},
   "outputs": [],
   "source": [
    "t_admissions = admissions.copy()"
   ]
  },
  {
   "cell_type": "code",
   "execution_count": 34,
   "metadata": {},
   "outputs": [],
   "source": [
    "le = LabelEncoder()\n",
    "for eachCol in cat_cols:\n",
    "    admissions[eachCol] = le.fit_transform(admissions[eachCol])"
   ]
  },
  {
   "cell_type": "code",
   "execution_count": 35,
   "metadata": {},
   "outputs": [],
   "source": [
    "admissions.drop(drop_cols, axis = 1, inplace = True)"
   ]
  },
  {
   "cell_type": "markdown",
   "metadata": {},
   "source": [
    "### Build Model"
   ]
  },
  {
   "cell_type": "code",
   "execution_count": 36,
   "metadata": {},
   "outputs": [],
   "source": [
    "from sklearn.tree import DecisionTreeClassifier\n",
    "from sklearn.ensemble import RandomForestClassifier\n",
    "from sklearn.model_selection import train_test_split\n",
    "from sklearn.model_selection import cross_val_score\n",
    "from sklearn.metrics import f1_score\n",
    "# conda install -c conda-forge imbalanced-learn\n",
    "from imblearn.under_sampling import RandomUnderSampler\n",
    "from imblearn.over_sampling import SMOTE"
   ]
  },
  {
   "cell_type": "code",
   "execution_count": 37,
   "metadata": {},
   "outputs": [],
   "source": [
    "def data_sampling(X, y, method = 'rus', kind = 'regular', seed = 0):\n",
    "    \"\"\"\n",
    "    Function to balance classes using random under sampling or smote\n",
    "    Parameters:\n",
    "        X: the independent variable values in a numpy array / pandas dataframe\n",
    "        y: the target variable valeus in a numpy array / pandas dataframe\n",
    "        method: currently accepts: 'rus' or 'smote'\n",
    "        kind: parameter for smote where kind = ['regular', 'borderline1', 'borderline2', 'svm']\n",
    "        seed: A random seed to maintain reproducability\n",
    "    \"\"\"\n",
    "    if method == 'smote':\n",
    "        sm = SMOTE(kind = kind)\n",
    "        X_res, y_res = sm.fit_sample(X, y)\n",
    "    else:\n",
    "        rus = RandomUnderSampler(return_indices = True, random_state = seed)\n",
    "        X_res, y_res, idx_res = rus.fit_sample(X, y)\n",
    "    return {'X' : X_res, 'y' : y_res}"
   ]
  },
  {
   "cell_type": "code",
   "execution_count": 38,
   "metadata": {},
   "outputs": [],
   "source": [
    "feature_names = [x for x in admissions.columns if x not in ['target']]\n",
    "target = admissions['target']"
   ]
  },
  {
   "cell_type": "code",
   "execution_count": 39,
   "metadata": {},
   "outputs": [],
   "source": [
    "X_train, X_valid, y_train, y_valid = train_test_split(admissions[feature_names], target, train_size = 0.7, stratify = target, random_state = 0)"
   ]
  },
  {
   "cell_type": "markdown",
   "metadata": {},
   "source": [
    "#### Handling Imbalance with RUS & SMOTE"
   ]
  },
  {
   "cell_type": "code",
   "execution_count": 40,
   "metadata": {},
   "outputs": [],
   "source": [
    "smote = data_sampling(X_train, y_train, method = 'rus')\n",
    "X_SMOTE_train = smote['X']\n",
    "y_SMOTE_train = smote['y']"
   ]
  },
  {
   "cell_type": "code",
   "execution_count": 41,
   "metadata": {},
   "outputs": [
    {
     "data": {
      "text/plain": [
       "1    0.5\n",
       "0    0.5\n",
       "Name: target, dtype: float64"
      ]
     },
     "execution_count": 41,
     "metadata": {},
     "output_type": "execute_result"
    }
   ],
   "source": [
    "pd.DataFrame({'target' : y_SMOTE_train})['target'].value_counts(normalize=True)"
   ]
  },
  {
   "cell_type": "markdown",
   "metadata": {},
   "source": [
    "#### 1) Random Forest"
   ]
  },
  {
   "cell_type": "code",
   "execution_count": 42,
   "metadata": {},
   "outputs": [],
   "source": [
    "clf = RandomForestClassifier(random_state=0)"
   ]
  },
  {
   "cell_type": "code",
   "execution_count": 43,
   "metadata": {},
   "outputs": [
    {
     "data": {
      "text/plain": [
       "array([0.68922018, 0.68176606, 0.67029817, 0.67230505, 0.68559954])"
      ]
     },
     "execution_count": 43,
     "metadata": {},
     "output_type": "execute_result"
    }
   ],
   "source": [
    "cross_val_score(clf, X_SMOTE_train, y_SMOTE_train, cv=5)"
   ]
  },
  {
   "cell_type": "code",
   "execution_count": 44,
   "metadata": {},
   "outputs": [
    {
     "data": {
      "text/plain": [
       "RandomForestClassifier(bootstrap=True, class_weight=None, criterion='gini',\n",
       "            max_depth=None, max_features='auto', max_leaf_nodes=None,\n",
       "            min_impurity_decrease=0.0, min_impurity_split=None,\n",
       "            min_samples_leaf=1, min_samples_split=2,\n",
       "            min_weight_fraction_leaf=0.0, n_estimators=10, n_jobs=1,\n",
       "            oob_score=False, random_state=0, verbose=0, warm_start=False)"
      ]
     },
     "execution_count": 44,
     "metadata": {},
     "output_type": "execute_result"
    }
   ],
   "source": [
    "clf.fit(X_SMOTE_train, y_SMOTE_train)"
   ]
  },
  {
   "cell_type": "code",
   "execution_count": 45,
   "metadata": {},
   "outputs": [
    {
     "data": {
      "text/plain": [
       "0.476584836833284"
      ]
     },
     "execution_count": 45,
     "metadata": {},
     "output_type": "execute_result"
    }
   ],
   "source": [
    "f1_score(y_valid, clf.predict(X_valid))"
   ]
  },
  {
   "cell_type": "code",
   "execution_count": null,
   "metadata": {},
   "outputs": [],
   "source": [
    "from xgboost import XGBClassifier"
   ]
  }
 ],
 "metadata": {
  "anaconda-cloud": {},
  "kernelspec": {
   "display_name": "Python 3",
   "language": "python",
   "name": "python3"
  },
  "language_info": {
   "codemirror_mode": {
    "name": "ipython",
    "version": 3
   },
   "file_extension": ".py",
   "mimetype": "text/x-python",
   "name": "python",
   "nbconvert_exporter": "python",
   "pygments_lexer": "ipython3",
   "version": "3.6.4"
  }
 },
 "nbformat": 4,
 "nbformat_minor": 1
}
